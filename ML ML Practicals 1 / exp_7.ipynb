{
  "nbformat": 4,
  "nbformat_minor": 0,
  "metadata": {
    "colab": {
      "provenance": [],
      "authorship_tag": "ABX9TyON6lakcwt3Sh75m0nslspu",
      "include_colab_link": true
    },
    "kernelspec": {
      "name": "python3",
      "display_name": "Python 3"
    },
    "language_info": {
      "name": "python"
    }
  },
  "cells": [
    {
      "cell_type": "markdown",
      "metadata": {
        "id": "view-in-github",
        "colab_type": "text"
      },
      "source": [
        "<a href=\"https://colab.research.google.com/github/pushprajroy12/Chandigarh-University-Assignments/blob/main/ML%20ML%20Practicals%201%20/%20exp_7.ipynb\" target=\"_parent\"><img src=\"https://colab.research.google.com/assets/colab-badge.svg\" alt=\"Open In Colab\"/></a>"
      ]
    },
    {
      "cell_type": "markdown",
      "source": [
        "Implement decision tree on any data set."
      ],
      "metadata": {
        "id": "8QDLqwUEHH21"
      }
    },
    {
      "cell_type": "code",
      "source": [
        "import pandas as pd\n",
        "df = pd.read_csv(\"data.csv\")\n",
        "print(df)"
      ],
      "metadata": {
        "id": "_Hbz-np7HNAi",
        "colab": {
          "base_uri": "https://localhost:8080/"
        },
        "outputId": "aad2aba4-35cb-4728-8472-8e41fa5d1655"
      },
      "execution_count": null,
      "outputs": [
        {
          "output_type": "stream",
          "name": "stdout",
          "text": [
            "    Age  Experience  Rank Nationality   Go\n",
            "0    36          10     9          UK   NO\n",
            "1    42          12     4         USA   NO\n",
            "2    23           4     6           N   NO\n",
            "3    52           4     4         USA   NO\n",
            "4    43          21     8         USA  YES\n",
            "5    44          14     5          UK   NO\n",
            "6    66           3     7           N  YES\n",
            "7    35          14     9          UK  YES\n",
            "8    52          13     7           N  YES\n",
            "9    35           5     9           N  YES\n",
            "10   24           3     5         USA   NO\n",
            "11   18           3     7          UK  YES\n",
            "12   45           9     9          UK  YES\n"
          ]
        }
      ]
    },
    {
      "cell_type": "code",
      "source": [
        "d ={'UK': 0, 'USA': 1, 'N': 2}\n",
        "df['Nationality'] = df['Nationality'].map(d)\n",
        "d = {'YES' : 1, 'NO' : 0}\n",
        "df['Go'] =df['Go'].map(d)\n",
        "\n",
        "print(df)"
      ],
      "metadata": {
        "id": "vrS_r9bJITef",
        "colab": {
          "base_uri": "https://localhost:8080/"
        },
        "outputId": "168a5b96-213e-4a0c-8cf0-75670349648a"
      },
      "execution_count": null,
      "outputs": [
        {
          "output_type": "stream",
          "name": "stdout",
          "text": [
            "    Age  Experience  Rank  Nationality  Go\n",
            "0    36          10     9            0   0\n",
            "1    42          12     4            1   0\n",
            "2    23           4     6            2   0\n",
            "3    52           4     4            1   0\n",
            "4    43          21     8            1   1\n",
            "5    44          14     5            0   0\n",
            "6    66           3     7            2   1\n",
            "7    35          14     9            0   1\n",
            "8    52          13     7            2   1\n",
            "9    35           5     9            2   1\n",
            "10   24           3     5            1   0\n",
            "11   18           3     7            0   1\n",
            "12   45           9     9            0   1\n"
          ]
        }
      ]
    },
    {
      "cell_type": "code",
      "source": [
        "features = ['Age', 'Experience', 'Rank', 'Nationality']\n",
        "\n",
        "x = df[features]\n",
        "y = df['Go']\n",
        "\n",
        "print(x)\n",
        "print(y)"
      ],
      "metadata": {
        "id": "SMI_ZbTnJdAH",
        "colab": {
          "base_uri": "https://localhost:8080/"
        },
        "outputId": "0a8f649a-e8ff-4ef8-9b2b-f89b2724b861"
      },
      "execution_count": null,
      "outputs": [
        {
          "output_type": "stream",
          "name": "stdout",
          "text": [
            "    Age  Experience  Rank  Nationality\n",
            "0    36          10     9            0\n",
            "1    42          12     4            1\n",
            "2    23           4     6            2\n",
            "3    52           4     4            1\n",
            "4    43          21     8            1\n",
            "5    44          14     5            0\n",
            "6    66           3     7            2\n",
            "7    35          14     9            0\n",
            "8    52          13     7            2\n",
            "9    35           5     9            2\n",
            "10   24           3     5            1\n",
            "11   18           3     7            0\n",
            "12   45           9     9            0\n",
            "0     0\n",
            "1     0\n",
            "2     0\n",
            "3     0\n",
            "4     1\n",
            "5     0\n",
            "6     1\n",
            "7     1\n",
            "8     1\n",
            "9     1\n",
            "10    0\n",
            "11    1\n",
            "12    1\n",
            "Name: Go, dtype: int64\n"
          ]
        }
      ]
    },
    {
      "cell_type": "code",
      "source": [
        "import pandas\n",
        "from sklearn import tree\n",
        "from sklearn.tree import DecisionTreeClassifier\n",
        "import matplotlib.pyplot as plt\n",
        "\n",
        "df = pandas.read_csv(\"data.csv\")\n",
        "\n",
        "d = {'UK': 0, 'USA': 1, 'N': 2}\n",
        "df['Nationality'] = df['Nationality'].map(d)\n",
        "d = {'YES': 1, 'NO': 0}\n",
        "df['Go'] = df['Go'].map(d)\n",
        "\n",
        "\n",
        "features = ['Age', 'Experience', 'Rank', 'Nationality']\n",
        "\n",
        "x = df[features]\n",
        "y = df['Go']\n",
        "\n",
        "print(x)\n",
        "print(y)\n",
        "\n",
        "dtree = DecisionTreeClassifier()\n",
        "dtree = dtree.fit(x,y)\n",
        "\n",
        "tree.plot_tree(dtree, feature_names=features)\n"
      ],
      "metadata": {
        "id": "fE0Rsb4ojywp",
        "colab": {
          "base_uri": "https://localhost:8080/",
          "height": 890
        },
        "outputId": "171151bc-ee39-44e7-9474-2ac5ee7b91d5"
      },
      "execution_count": null,
      "outputs": [
        {
          "output_type": "stream",
          "name": "stdout",
          "text": [
            "    Age  Experience  Rank  Nationality\n",
            "0    36          10     9            0\n",
            "1    42          12     4            1\n",
            "2    23           4     6            2\n",
            "3    52           4     4            1\n",
            "4    43          21     8            1\n",
            "5    44          14     5            0\n",
            "6    66           3     7            2\n",
            "7    35          14     9            0\n",
            "8    52          13     7            2\n",
            "9    35           5     9            2\n",
            "10   24           3     5            1\n",
            "11   18           3     7            0\n",
            "12   45           9     9            0\n",
            "0     0\n",
            "1     0\n",
            "2     0\n",
            "3     0\n",
            "4     1\n",
            "5     0\n",
            "6     1\n",
            "7     1\n",
            "8     1\n",
            "9     1\n",
            "10    0\n",
            "11    1\n",
            "12    1\n",
            "Name: Go, dtype: int64\n"
          ]
        },
        {
          "output_type": "execute_result",
          "data": {
            "text/plain": [
              "[Text(0.4, 0.9, 'Rank <= 6.5\\ngini = 0.497\\nsamples = 13\\nvalue = [6, 7]'),\n",
              " Text(0.2, 0.7, 'gini = 0.0\\nsamples = 5\\nvalue = [5, 0]'),\n",
              " Text(0.6, 0.7, 'Nationality <= 0.5\\ngini = 0.219\\nsamples = 8\\nvalue = [1, 7]'),\n",
              " Text(0.4, 0.5, 'Age <= 35.5\\ngini = 0.375\\nsamples = 4\\nvalue = [1, 3]'),\n",
              " Text(0.2, 0.3, 'gini = 0.0\\nsamples = 2\\nvalue = [0, 2]'),\n",
              " Text(0.6, 0.3, 'Age <= 40.5\\ngini = 0.5\\nsamples = 2\\nvalue = [1, 1]'),\n",
              " Text(0.4, 0.1, 'gini = 0.0\\nsamples = 1\\nvalue = [1, 0]'),\n",
              " Text(0.8, 0.1, 'gini = 0.0\\nsamples = 1\\nvalue = [0, 1]'),\n",
              " Text(0.8, 0.5, 'gini = 0.0\\nsamples = 4\\nvalue = [0, 4]')]"
            ]
          },
          "metadata": {},
          "execution_count": 4
        },
        {
          "output_type": "display_data",
          "data": {
            "text/plain": [
              "<Figure size 432x288 with 1 Axes>"
            ],
            "image/png": "[encoded data removed]"
          },
          "metadata": {
            "needs_background": "light"
          }
        }
      ]
    },
    {
      "cell_type": "code",
      "source": [
        "print(dtree.predict([[40,10, 7, 1]]))"
      ],
      "metadata": {
        "colab": {
          "base_uri": "https://localhost:8080/"
        },
        "id": "S7C6Ct3el7WV",
        "outputId": "141db450-c95d-47f6-bbd4-18547e2a3a9a"
      },
      "execution_count": null,
      "outputs": [
        {
          "output_type": "stream",
          "name": "stdout",
          "text": [
            "[1]\n"
          ]
        },
        {
          "output_type": "stream",
          "name": "stderr",
          "text": [
            "/usr/local/lib/python3.7/dist-packages/sklearn/base.py:451: UserWarning: X does not have valid feature names, but DecisionTreeClassifier was fitted with feature names\n",
            "  \"X does not have valid feature names, but\"\n"
          ]
        }
      ]
    }
  ]
}